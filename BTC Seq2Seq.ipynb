{
 "cells": [
  {
   "cell_type": "markdown",
   "id": "3ef585cc-8524-4ada-9447-1de1ad3894b6",
   "metadata": {},
   "source": [
    "## Importing Libraries"
   ]
  },
  {
   "cell_type": "code",
   "execution_count": 1,
   "id": "1fc47aff-ad87-48f9-a49b-966b9cb51d06",
   "metadata": {},
   "outputs": [],
   "source": [
    "import yfinance as yf\n",
    "import pandas as pd\n",
    "import matplotlib.pyplot as plt\n",
    "import statistics\n",
    "import numpy as np\n",
    "import tensorflow as tf"
   ]
  },
  {
   "cell_type": "markdown",
   "id": "66267cc7-6c37-441b-9dc0-ec673edd19d0",
   "metadata": {},
   "source": [
    "## Fetching the BTC Data\n",
    "Data used in this is of each day for the past 4 years"
   ]
  },
  {
   "cell_type": "code",
   "execution_count": 6,
   "id": "1967f06f-0b2b-4734-9525-eebf53d575e5",
   "metadata": {},
   "outputs": [
    {
     "name": "stdout",
     "output_type": "stream",
     "text": [
      "<class 'pandas.core.frame.DataFrame'>\n",
      "DatetimeIndex: 1462 entries, 2018-06-16 to 2022-06-16\n",
      "Data columns (total 7 columns):\n",
      " #   Column        Non-Null Count  Dtype  \n",
      "---  ------        --------------  -----  \n",
      " 0   Open          1462 non-null   float64\n",
      " 1   High          1462 non-null   float64\n",
      " 2   Low           1462 non-null   float64\n",
      " 3   Close         1462 non-null   float64\n",
      " 4   Volume        1462 non-null   int64  \n",
      " 5   Dividends     1462 non-null   int64  \n",
      " 6   Stock Splits  1462 non-null   int64  \n",
      "dtypes: float64(4), int64(3)\n",
      "memory usage: 91.4 KB\n"
     ]
    }
   ],
   "source": [
    "data = yf.Ticker('BTC-USD').history('4y','1d')\n",
    "data.info()"
   ]
  },
  {
   "cell_type": "code",
   "execution_count": 8,
   "id": "e2929405-c5c7-4ccc-926c-d7aae98baf61",
   "metadata": {},
   "outputs": [
    {
     "data": {
      "text/html": [
       "<div>\n",
       "<style scoped>\n",
       "    .dataframe tbody tr th:only-of-type {\n",
       "        vertical-align: middle;\n",
       "    }\n",
       "\n",
       "    .dataframe tbody tr th {\n",
       "        vertical-align: top;\n",
       "    }\n",
       "\n",
       "    .dataframe thead th {\n",
       "        text-align: right;\n",
       "    }\n",
       "</style>\n",
       "<table border=\"1\" class=\"dataframe\">\n",
       "  <thead>\n",
       "    <tr style=\"text-align: right;\">\n",
       "      <th></th>\n",
       "      <th>Open</th>\n",
       "      <th>High</th>\n",
       "      <th>Low</th>\n",
       "      <th>Close</th>\n",
       "      <th>Volume</th>\n",
       "      <th>Dividends</th>\n",
       "      <th>Stock Splits</th>\n",
       "    </tr>\n",
       "    <tr>\n",
       "      <th>Date</th>\n",
       "      <th></th>\n",
       "      <th></th>\n",
       "      <th></th>\n",
       "      <th></th>\n",
       "      <th></th>\n",
       "      <th></th>\n",
       "      <th></th>\n",
       "    </tr>\n",
       "  </thead>\n",
       "  <tbody>\n",
       "    <tr>\n",
       "      <th>2018-06-16</th>\n",
       "      <td>6455.450195</td>\n",
       "      <td>6592.490234</td>\n",
       "      <td>6402.290039</td>\n",
       "      <td>6550.160156</td>\n",
       "      <td>3194170112</td>\n",
       "      <td>0</td>\n",
       "      <td>0</td>\n",
       "    </tr>\n",
       "    <tr>\n",
       "      <th>2018-06-17</th>\n",
       "      <td>6545.529785</td>\n",
       "      <td>6589.109863</td>\n",
       "      <td>6499.270020</td>\n",
       "      <td>6499.270020</td>\n",
       "      <td>3104019968</td>\n",
       "      <td>0</td>\n",
       "      <td>0</td>\n",
       "    </tr>\n",
       "    <tr>\n",
       "      <th>2018-06-18</th>\n",
       "      <td>6510.069824</td>\n",
       "      <td>6781.140137</td>\n",
       "      <td>6446.680176</td>\n",
       "      <td>6734.819824</td>\n",
       "      <td>4039200000</td>\n",
       "      <td>0</td>\n",
       "      <td>0</td>\n",
       "    </tr>\n",
       "    <tr>\n",
       "      <th>2018-06-19</th>\n",
       "      <td>6742.390137</td>\n",
       "      <td>6822.500000</td>\n",
       "      <td>6709.919922</td>\n",
       "      <td>6769.939941</td>\n",
       "      <td>4057029888</td>\n",
       "      <td>0</td>\n",
       "      <td>0</td>\n",
       "    </tr>\n",
       "    <tr>\n",
       "      <th>2018-06-20</th>\n",
       "      <td>6770.759766</td>\n",
       "      <td>6821.560059</td>\n",
       "      <td>6611.879883</td>\n",
       "      <td>6776.549805</td>\n",
       "      <td>3888640000</td>\n",
       "      <td>0</td>\n",
       "      <td>0</td>\n",
       "    </tr>\n",
       "  </tbody>\n",
       "</table>\n",
       "</div>"
      ],
      "text/plain": [
       "                   Open         High          Low        Close      Volume  \\\n",
       "Date                                                                         \n",
       "2018-06-16  6455.450195  6592.490234  6402.290039  6550.160156  3194170112   \n",
       "2018-06-17  6545.529785  6589.109863  6499.270020  6499.270020  3104019968   \n",
       "2018-06-18  6510.069824  6781.140137  6446.680176  6734.819824  4039200000   \n",
       "2018-06-19  6742.390137  6822.500000  6709.919922  6769.939941  4057029888   \n",
       "2018-06-20  6770.759766  6821.560059  6611.879883  6776.549805  3888640000   \n",
       "\n",
       "            Dividends  Stock Splits  \n",
       "Date                                 \n",
       "2018-06-16          0             0  \n",
       "2018-06-17          0             0  \n",
       "2018-06-18          0             0  \n",
       "2018-06-19          0             0  \n",
       "2018-06-20          0             0  "
      ]
     },
     "execution_count": 8,
     "metadata": {},
     "output_type": "execute_result"
    }
   ],
   "source": [
    "data.head()"
   ]
  },
  {
   "cell_type": "markdown",
   "id": "92c485eb-a282-4e2d-b3a2-9b52971553c0",
   "metadata": {},
   "source": [
    "## Removing Unnecessary columns "
   ]
  },
  {
   "cell_type": "code",
   "execution_count": 20,
   "id": "69e09b71-9130-40dd-8a8f-5de2ee5bee5d",
   "metadata": {},
   "outputs": [
    {
     "data": {
      "text/html": [
       "<div>\n",
       "<style scoped>\n",
       "    .dataframe tbody tr th:only-of-type {\n",
       "        vertical-align: middle;\n",
       "    }\n",
       "\n",
       "    .dataframe tbody tr th {\n",
       "        vertical-align: top;\n",
       "    }\n",
       "\n",
       "    .dataframe thead th {\n",
       "        text-align: right;\n",
       "    }\n",
       "</style>\n",
       "<table border=\"1\" class=\"dataframe\">\n",
       "  <thead>\n",
       "    <tr style=\"text-align: right;\">\n",
       "      <th></th>\n",
       "      <th>Open</th>\n",
       "      <th>High</th>\n",
       "      <th>Low</th>\n",
       "      <th>Close</th>\n",
       "      <th>Volume</th>\n",
       "    </tr>\n",
       "  </thead>\n",
       "  <tbody>\n",
       "    <tr>\n",
       "      <th>0</th>\n",
       "      <td>6455.450195</td>\n",
       "      <td>6592.490234</td>\n",
       "      <td>6402.290039</td>\n",
       "      <td>6550.160156</td>\n",
       "      <td>3194170112</td>\n",
       "    </tr>\n",
       "    <tr>\n",
       "      <th>1</th>\n",
       "      <td>6545.529785</td>\n",
       "      <td>6589.109863</td>\n",
       "      <td>6499.270020</td>\n",
       "      <td>6499.270020</td>\n",
       "      <td>3104019968</td>\n",
       "    </tr>\n",
       "    <tr>\n",
       "      <th>2</th>\n",
       "      <td>6510.069824</td>\n",
       "      <td>6781.140137</td>\n",
       "      <td>6446.680176</td>\n",
       "      <td>6734.819824</td>\n",
       "      <td>4039200000</td>\n",
       "    </tr>\n",
       "    <tr>\n",
       "      <th>3</th>\n",
       "      <td>6742.390137</td>\n",
       "      <td>6822.500000</td>\n",
       "      <td>6709.919922</td>\n",
       "      <td>6769.939941</td>\n",
       "      <td>4057029888</td>\n",
       "    </tr>\n",
       "    <tr>\n",
       "      <th>4</th>\n",
       "      <td>6770.759766</td>\n",
       "      <td>6821.560059</td>\n",
       "      <td>6611.879883</td>\n",
       "      <td>6776.549805</td>\n",
       "      <td>3888640000</td>\n",
       "    </tr>\n",
       "  </tbody>\n",
       "</table>\n",
       "</div>"
      ],
      "text/plain": [
       "          Open         High          Low        Close      Volume\n",
       "0  6455.450195  6592.490234  6402.290039  6550.160156  3194170112\n",
       "1  6545.529785  6589.109863  6499.270020  6499.270020  3104019968\n",
       "2  6510.069824  6781.140137  6446.680176  6734.819824  4039200000\n",
       "3  6742.390137  6822.500000  6709.919922  6769.939941  4057029888\n",
       "4  6770.759766  6821.560059  6611.879883  6776.549805  3888640000"
      ]
     },
     "execution_count": 20,
     "metadata": {},
     "output_type": "execute_result"
    }
   ],
   "source": [
    "data.reset_index(inplace=True)\n",
    "data.rename(columns={'index':'Date'},inplace=True)\n",
    "data.drop(columns=['Dividends','Stock Splits','Date'],inplace=True)\n",
    "data.head()"
   ]
  },
  {
   "cell_type": "markdown",
   "id": "43652cdc-8f29-4ecf-b067-fe7fae0b1aa9",
   "metadata": {},
   "source": [
    "## Splitting the data into test and train"
   ]
  },
  {
   "cell_type": "code",
   "execution_count": 21,
   "id": "6d92e31d-a3ec-4c78-b8f5-a98e63ccc2bd",
   "metadata": {},
   "outputs": [
    {
     "name": "stdout",
     "output_type": "stream",
     "text": [
      "<class 'pandas.core.frame.DataFrame'>\n",
      "RangeIndex: 450 entries, 1012 to 1461\n",
      "Data columns (total 5 columns):\n",
      " #   Column  Non-Null Count  Dtype  \n",
      "---  ------  --------------  -----  \n",
      " 0   Open    450 non-null    float64\n",
      " 1   High    450 non-null    float64\n",
      " 2   Low     450 non-null    float64\n",
      " 3   Close   450 non-null    float64\n",
      " 4   Volume  450 non-null    int64  \n",
      "dtypes: float64(4), int64(1)\n",
      "memory usage: 17.7 KB\n"
     ]
    }
   ],
   "source": [
    "train = data.iloc[:1012]\n",
    "test = data.iloc[1012:]\n",
    "test.info()"
   ]
  },
  {
   "cell_type": "markdown",
   "id": "9ae1655f-92a0-4635-9d85-136ef81f3d5c",
   "metadata": {},
   "source": [
    "### Preprocessing the data"
   ]
  },
  {
   "cell_type": "code",
   "execution_count": 22,
   "id": "41bf040a-874e-4dae-b2c8-ab7f61e7f0b9",
   "metadata": {},
   "outputs": [
    {
     "data": {
      "text/plain": [
       "((450, 5), (1012, 5))"
      ]
     },
     "execution_count": 22,
     "metadata": {},
     "output_type": "execute_result"
    }
   ],
   "source": [
    "from sklearn.preprocessing import MinMaxScaler\n",
    "scaler = MinMaxScaler()\n",
    "scaled_train = scaler.fit_transform(train)\n",
    "scaled_test = scaler.fit_transform(test)\n",
    "scaled_test.shape,scaled_train.shape"
   ]
  },
  {
   "cell_type": "markdown",
   "id": "38f7b677-f1b9-44f4-88a0-5bc092a90105",
   "metadata": {},
   "source": [
    "## Generating a Time Series for the data\n",
    "We split the data into X,y such that Last 45 days of data predict the next day of data"
   ]
  },
  {
   "cell_type": "code",
   "execution_count": 37,
   "id": "98a081e5-ac63-4177-a3eb-2ff91e08835b",
   "metadata": {},
   "outputs": [],
   "source": [
    "from keras.preprocessing.sequence import TimeseriesGenerator\n",
    "# define generator\n",
    "n_input = 45\n",
    "generator = TimeseriesGenerator(scaled_train, scaled_train, length=n_input, batch_size=1)\n",
    "test_generator = TimeseriesGenerator(scaled_test, scaled_test, length=45, batch_size=1)"
   ]
  },
  {
   "cell_type": "code",
   "execution_count": 29,
   "id": "6a495543-c614-4c35-b75a-f19b87fae63b",
   "metadata": {},
   "outputs": [
    {
     "name": "stdout",
     "output_type": "stream",
     "text": [
      "Given the Array: \n",
      "(1, 45, 5)\n",
      "Predict this y: \n",
      " (1, 5)\n"
     ]
    }
   ],
   "source": [
    "X,y = generator[0]\n",
    "print(f'Given the Array: \\n{X.shape}')\n",
    "print(f'Predict this y: \\n {y.shape}')"
   ]
  },
  {
   "cell_type": "markdown",
   "id": "7d156285-d7de-493e-a97d-465a0cd1092a",
   "metadata": {},
   "source": [
    "## Building the Seq2Seq Model"
   ]
  },
  {
   "cell_type": "code",
   "execution_count": 31,
   "id": "4bec29e8-780b-4ef1-9b8b-206294bdc58a",
   "metadata": {},
   "outputs": [
    {
     "name": "stdout",
     "output_type": "stream",
     "text": [
      "Model: \"model\"\n",
      "__________________________________________________________________________________________________\n",
      " Layer (type)                   Output Shape         Param #     Connected to                     \n",
      "==================================================================================================\n",
      " input_1 (InputLayer)           [(None, 45, 5)]      0           []                               \n",
      "                                                                                                  \n",
      " lstm (LSTM)                    [(None, 45, 200),    164800      ['input_1[0][0]']                \n",
      "                                 (None, 200),                                                     \n",
      "                                 (None, 200)]                                                     \n",
      "                                                                                                  \n",
      " repeat_vector (RepeatVector)   (None, 1, 200)       0           ['lstm[0][1]']                   \n",
      "                                                                                                  \n",
      " lstm_1 (LSTM)                  (None, 1, 200)       320800      ['repeat_vector[0][0]',          \n",
      "                                                                  'lstm[0][1]',                   \n",
      "                                                                  'lstm[0][2]']                   \n",
      "                                                                                                  \n",
      " dot (Dot)                      (None, 1, 45)        0           ['lstm_1[0][0]',                 \n",
      "                                                                  'lstm[0][0]']                   \n",
      "                                                                                                  \n",
      " activation (Activation)        (None, 1, 45)        0           ['dot[0][0]']                    \n",
      "                                                                                                  \n",
      " dot_1 (Dot)                    (None, 1, 200)       0           ['activation[0][0]',             \n",
      "                                                                  'lstm[0][0]']                   \n",
      "                                                                                                  \n",
      " concatenate (Concatenate)      (None, 1, 400)       0           ['dot_1[0][0]',                  \n",
      "                                                                  'lstm_1[0][0]']                 \n",
      "                                                                                                  \n",
      " time_distributed (TimeDistribu  (None, 1, 5)        2005        ['concatenate[0][0]']            \n",
      " ted)                                                                                             \n",
      "                                                                                                  \n",
      "==================================================================================================\n",
      "Total params: 487,605\n",
      "Trainable params: 487,605\n",
      "Non-trainable params: 0\n",
      "__________________________________________________________________________________________________\n"
     ]
    }
   ],
   "source": [
    "n_hidden = 200\n",
    "input_train = tf.keras.layers.Input(shape=(45, 5))\n",
    "output_train = tf.keras.layers.Input(shape=(1, 5))\n",
    "encoder_stack_h, encoder_last_h, encoder_last_c = tf.keras.layers.LSTM(\n",
    "    n_hidden, activation='tanh', dropout=0.2, \n",
    "    return_state=True, return_sequences=True)(input_train)\n",
    "\n",
    "decoder_input = tf.keras.layers.RepeatVector(output_train.shape[1])(encoder_last_h)\n",
    "decoder_stack_h = tf.keras.layers.LSTM(n_hidden, activation='tanh', dropout=0.2,\n",
    " return_state=False, return_sequences=True)(\n",
    " decoder_input, initial_state=[encoder_last_h, encoder_last_c])\n",
    "\n",
    "attention = tf.keras.layers.dot([decoder_stack_h, encoder_stack_h], axes=[2, 2])\n",
    "attention = tf.keras.layers.Activation('softmax')(attention)\n",
    "\n",
    "context = tf.keras.layers.dot([attention, encoder_stack_h], axes=[2,1])\n",
    "\n",
    "decoder_combined_context = tf.keras.layers.concatenate([context, decoder_stack_h])\n",
    "out = tf.keras.layers.TimeDistributed(tf.keras.layers.Dense(output_train.shape[2]))(decoder_combined_context)\n",
    "model = tf.keras.models.Model(inputs=input_train, outputs=out)\n",
    "model.compile(loss='mean_squared_error', optimizer=tf.keras.optimizers.Adam(), metrics=['mae'])\n",
    "model.summary()"
   ]
  },
  {
   "cell_type": "markdown",
   "id": "434342db-74b4-457d-8f2f-455a6fb8c891",
   "metadata": {},
   "source": [
    "### Using a early stopper for the model"
   ]
  },
  {
   "cell_type": "code",
   "execution_count": 35,
   "id": "3079d2c2-18f1-490b-aecf-28854bd2a53f",
   "metadata": {},
   "outputs": [],
   "source": [
    "earlyStopper=tf.keras.callbacks.EarlyStopping(monitor='mae', patience=10, verbose=1, mode='auto',restore_best_weights=True)"
   ]
  },
  {
   "cell_type": "markdown",
   "id": "e30cc98d-de37-493e-991c-6cd7c1314104",
   "metadata": {},
   "source": [
    "### Training the Model"
   ]
  },
  {
   "cell_type": "code",
   "execution_count": 36,
   "id": "5030d3af-014a-412d-a68d-1987783eaff5",
   "metadata": {
    "scrolled": true,
    "tags": []
   },
   "outputs": [
    {
     "name": "stdout",
     "output_type": "stream",
     "text": [
      "Epoch 1/100\n",
      "967/967 - 36s - loss: 0.0027 - mae: 0.0287 - 36s/epoch - 38ms/step\n",
      "Epoch 2/100\n",
      "967/967 - 15s - loss: 0.0018 - mae: 0.0246 - 15s/epoch - 16ms/step\n",
      "Epoch 3/100\n",
      "967/967 - 12s - loss: 0.0018 - mae: 0.0246 - 12s/epoch - 13ms/step\n",
      "Epoch 4/100\n",
      "967/967 - 14s - loss: 0.0012 - mae: 0.0195 - 14s/epoch - 14ms/step\n",
      "Epoch 5/100\n",
      "967/967 - 13s - loss: 0.0012 - mae: 0.0196 - 13s/epoch - 13ms/step\n",
      "Epoch 6/100\n",
      "967/967 - 12s - loss: 0.0015 - mae: 0.0207 - 12s/epoch - 12ms/step\n",
      "Epoch 7/100\n",
      "967/967 - 12s - loss: 9.7866e-04 - mae: 0.0175 - 12s/epoch - 13ms/step\n",
      "Epoch 8/100\n",
      "967/967 - 14s - loss: 0.0011 - mae: 0.0183 - 14s/epoch - 15ms/step\n",
      "Epoch 9/100\n",
      "967/967 - 15s - loss: 8.9002e-04 - mae: 0.0168 - 15s/epoch - 15ms/step\n",
      "Epoch 10/100\n",
      "967/967 - 15s - loss: 0.0011 - mae: 0.0186 - 15s/epoch - 15ms/step\n",
      "Epoch 11/100\n",
      "967/967 - 15s - loss: 0.0010 - mae: 0.0181 - 15s/epoch - 16ms/step\n",
      "Epoch 12/100\n",
      "967/967 - 12s - loss: 9.5881e-04 - mae: 0.0175 - 12s/epoch - 13ms/step\n",
      "Epoch 13/100\n",
      "967/967 - 15s - loss: 8.8816e-04 - mae: 0.0164 - 15s/epoch - 15ms/step\n",
      "Epoch 14/100\n",
      "967/967 - 14s - loss: 8.4771e-04 - mae: 0.0162 - 14s/epoch - 15ms/step\n",
      "Epoch 15/100\n",
      "967/967 - 13s - loss: 9.1777e-04 - mae: 0.0167 - 13s/epoch - 13ms/step\n",
      "Epoch 16/100\n",
      "967/967 - 13s - loss: 8.4257e-04 - mae: 0.0162 - 13s/epoch - 14ms/step\n",
      "Epoch 17/100\n",
      "967/967 - 14s - loss: 8.6802e-04 - mae: 0.0162 - 14s/epoch - 15ms/step\n",
      "Epoch 18/100\n",
      "967/967 - 14s - loss: 8.6058e-04 - mae: 0.0156 - 14s/epoch - 15ms/step\n",
      "Epoch 19/100\n",
      "967/967 - 14s - loss: 8.2752e-04 - mae: 0.0161 - 14s/epoch - 14ms/step\n",
      "Epoch 20/100\n",
      "967/967 - 14s - loss: 7.4705e-04 - mae: 0.0152 - 14s/epoch - 15ms/step\n",
      "Epoch 21/100\n",
      "967/967 - 13s - loss: 7.8295e-04 - mae: 0.0153 - 13s/epoch - 14ms/step\n",
      "Epoch 22/100\n",
      "967/967 - 14s - loss: 7.8865e-04 - mae: 0.0153 - 14s/epoch - 14ms/step\n",
      "Epoch 23/100\n",
      "967/967 - 17s - loss: 8.1833e-04 - mae: 0.0161 - 17s/epoch - 18ms/step\n",
      "Epoch 24/100\n",
      "967/967 - 17s - loss: 7.7628e-04 - mae: 0.0151 - 17s/epoch - 17ms/step\n",
      "Epoch 25/100\n",
      "967/967 - 13s - loss: 6.6715e-04 - mae: 0.0145 - 13s/epoch - 14ms/step\n",
      "Epoch 26/100\n",
      "967/967 - 13s - loss: 7.7372e-04 - mae: 0.0153 - 13s/epoch - 13ms/step\n",
      "Epoch 27/100\n",
      "967/967 - 13s - loss: 0.0126 - mae: 0.0339 - 13s/epoch - 14ms/step\n",
      "Epoch 28/100\n",
      "967/967 - 14s - loss: 0.0016 - mae: 0.0283 - 14s/epoch - 15ms/step\n",
      "Epoch 29/100\n",
      "967/967 - 13s - loss: 0.0017 - mae: 0.0291 - 13s/epoch - 14ms/step\n",
      "Epoch 30/100\n",
      "967/967 - 13s - loss: 0.0015 - mae: 0.0262 - 13s/epoch - 13ms/step\n",
      "Epoch 31/100\n",
      "967/967 - 14s - loss: 0.0014 - mae: 0.0253 - 14s/epoch - 15ms/step\n",
      "Epoch 32/100\n",
      "967/967 - 14s - loss: 0.0013 - mae: 0.0246 - 14s/epoch - 15ms/step\n",
      "Epoch 33/100\n",
      "967/967 - 14s - loss: 0.0013 - mae: 0.0246 - 14s/epoch - 14ms/step\n",
      "Epoch 34/100\n",
      "967/967 - 13s - loss: 0.0012 - mae: 0.0230 - 13s/epoch - 14ms/step\n",
      "Epoch 35/100\n",
      "Restoring model weights from the end of the best epoch: 25.\n",
      "967/967 - 13s - loss: 0.0011 - mae: 0.0217 - 13s/epoch - 14ms/step\n",
      "Epoch 35: early stopping\n"
     ]
    },
    {
     "data": {
      "text/plain": [
       "<keras.callbacks.History at 0x17d540469d0>"
      ]
     },
     "execution_count": 36,
     "metadata": {},
     "output_type": "execute_result"
    }
   ],
   "source": [
    "model.fit(generator,epochs=100,verbose=2,callbacks=earlyStopper)"
   ]
  },
  {
   "cell_type": "markdown",
   "id": "b4065c30-59e7-408e-94d2-bd8c7b101281",
   "metadata": {},
   "source": [
    "## Getting Predictions and Plotting them"
   ]
  },
  {
   "cell_type": "code",
   "execution_count": 38,
   "id": "34782086-3a6e-4c06-8848-f47ae3ffd2d3",
   "metadata": {},
   "outputs": [
    {
     "data": {
      "text/plain": [
       "[array([[[0.8006621 , 0.8159026 , 0.82025313, 0.8082081 , 0.1467342 ]]],\n",
       "       dtype=float32),\n",
       " array([[[0.8059878 , 0.8210389 , 0.8250892 , 0.8131957 , 0.14660498]]],\n",
       "       dtype=float32),\n",
       " array([[[0.8097021 , 0.82489675, 0.82862365, 0.8166548 , 0.1465649 ]]],\n",
       "       dtype=float32),\n",
       " array([[[0.80836755, 0.82406706, 0.82761693, 0.81535417, 0.14697897]]],\n",
       "       dtype=float32),\n",
       " array([[[0.8073904 , 0.8228725 , 0.82729256, 0.81461763, 0.14613251]]],\n",
       "       dtype=float32)]"
      ]
     },
     "execution_count": 38,
     "metadata": {},
     "output_type": "execute_result"
    }
   ],
   "source": [
    "pred=list()\n",
    "true_values=list()\n",
    "for i in range(len(test_generator)):\n",
    "    X_test,y_test = test_generator[i]\n",
    "    pred.append(model.predict(X_test))\n",
    "    true_values.append(y_test)\n",
    "pred[:5]"
   ]
  },
  {
   "cell_type": "code",
   "execution_count": 39,
   "id": "c365ea39-2a01-4b18-b4a2-ecc065243918",
   "metadata": {},
   "outputs": [
    {
     "data": {
      "text/plain": [
       "array([5.73527656e+04, 5.94646133e+04, 5.69752109e+04, 5.88037773e+04,\n",
       "       6.53829806e+10])"
      ]
     },
     "execution_count": 39,
     "metadata": {},
     "output_type": "execute_result"
    }
   ],
   "source": [
    "pred = scaler.inverse_transform(np.array(pred).reshape(405,5))\n",
    "true_values = scaler.inverse_transform(np.array(true_values).reshape(405,5))\n",
    "true_values[0]"
   ]
  },
  {
   "cell_type": "code",
   "execution_count": 40,
   "id": "b597df5d",
   "metadata": {},
   "outputs": [
    {
     "data": {
      "image/png": "[encoded data removed]",
      "text/plain": [
       "<Figure size 1080x720 with 5 Axes>"
      ]
     },
     "metadata": {
      "needs_background": "light"
     },
     "output_type": "display_data"
    }
   ],
   "source": [
    "plt.figure(figsize=(15,10))\n",
    "for i in range(5):\n",
    "    predicted_values = list()\n",
    "    original_values = list()\n",
    "    plt.subplot(3,3,i+1)\n",
    "    for j in range(len(test_generator)):\n",
    "        predicted_values.append(pred[j][i])\n",
    "    for k in range(len(test_generator)):\n",
    "        original_values.append(true_values[k][i])\n",
    "    plt.plot(original_values,label='true values')\n",
    "    plt.plot(predicted_values,label='predicted values')\n",
    "    plt.title(data.columns[i])\n",
    "    plt.legend()"
   ]
  },
  {
   "cell_type": "code",
   "execution_count": null,
   "id": "8a2bb68f-d39a-4697-9208-69878cc39a51",
   "metadata": {},
   "outputs": [],
   "source": []
  }
 ],
 "metadata": {
  "kernelspec": {
   "display_name": "Python 3 (ipykernel)",
   "language": "python",
   "name": "python3"
  },
  "language_info": {
   "codemirror_mode": {
    "name": "ipython",
    "version": 3
   },
   "file_extension": ".py",
   "mimetype": "text/x-python",
   "name": "python",
   "nbconvert_exporter": "python",
   "pygments_lexer": "ipython3",
   "version": "3.9.10"
  }
 },
 "nbformat": 4,
 "nbformat_minor": 5
}
